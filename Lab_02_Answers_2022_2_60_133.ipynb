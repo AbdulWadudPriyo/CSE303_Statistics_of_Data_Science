{
  "nbformat": 4,
  "nbformat_minor": 0,
  "metadata": {
    "colab": {
      "provenance": []
    },
    "kernelspec": {
      "name": "python3",
      "display_name": "Python 3"
    },
    "language_info": {
      "name": "python"
    }
  },
  "cells": [
    {
      "cell_type": "markdown",
      "source": [
        "1. Create a 1D NumPy array of integers from 0 to 9."
      ],
      "metadata": {
        "id": "vM-V6pOokvA5"
      }
    },
    {
      "cell_type": "code",
      "execution_count": null,
      "metadata": {
        "colab": {
          "base_uri": "https://localhost:8080/"
        },
        "id": "jOoLP1jAksiL",
        "outputId": "b0fb9d39-7509-4071-b9ec-20812724a23c"
      },
      "outputs": [
        {
          "output_type": "stream",
          "name": "stdout",
          "text": [
            "[0 1 2 3 4 5 6 7 8 9]\n"
          ]
        }
      ],
      "source": [
        "#1D Numpy array of integers 0 to 9\n",
        "import numpy as np\n",
        "list = (0,1,2,3,4,5,6,7,8,9)\n",
        "array_1d = np.array(list)\n",
        "print(array_1d)"
      ]
    },
    {
      "cell_type": "markdown",
      "source": [
        "2. Generate a 4x4 NumPy array filled with random integers between 0 and 100"
      ],
      "metadata": {
        "id": "CSSRIhoGlKdk"
      }
    },
    {
      "cell_type": "code",
      "source": [
        "#Generating 4x4 array NumPy array\n",
        "import numpy as np\n",
        "random_array = np.random.randint(0, 100, size=(4, 4))\n",
        "print(random_array)"
      ],
      "metadata": {
        "colab": {
          "base_uri": "https://localhost:8080/"
        },
        "id": "Zun6c7kxlOuJ",
        "outputId": "fe1d98a8-b403-4e6c-e02b-258b347bbac6"
      },
      "execution_count": null,
      "outputs": [
        {
          "output_type": "stream",
          "name": "stdout",
          "text": [
            "[[86 89 92 14]\n",
            " [38 51 26 19]\n",
            " [83  1 94 15]\n",
            " [46 24  9 27]]\n"
          ]
        }
      ]
    },
    {
      "cell_type": "markdown",
      "source": [
        "3. Given a NumPy array arr = np.arange(20).reshape(4, 5), extract the subarray containing the elements from the 2nd row and 2nd to 4th columns."
      ],
      "metadata": {
        "id": "s3rSgmkGlaD3"
      }
    },
    {
      "cell_type": "code",
      "source": [
        "import numpy as np\n",
        "arr = np.arange(20).reshape(4, 5)\n",
        "print(arr)\n",
        "subarray = arr[1, 1:4]\n",
        "print(subarray)\n"
      ],
      "metadata": {
        "id": "wtKNfy3MleEj",
        "colab": {
          "base_uri": "https://localhost:8080/"
        },
        "outputId": "f013a61b-7286-4bbf-9e63-b92823f3e00f"
      },
      "execution_count": 2,
      "outputs": [
        {
          "output_type": "stream",
          "name": "stdout",
          "text": [
            "[[ 0  1  2  3  4]\n",
            " [ 5  6  7  8  9]\n",
            " [10 11 12 13 14]\n",
            " [15 16 17 18 19]]\n",
            "[6 7 8]\n"
          ]
        }
      ]
    },
    {
      "cell_type": "markdown",
      "source": [
        "4. Create a 3x3 identity matrix using NumPy."
      ],
      "metadata": {
        "id": "m4LnSf1-lfeb"
      }
    },
    {
      "cell_type": "markdown",
      "source": [],
      "metadata": {
        "id": "HGX3Cv3Bfp1s"
      }
    },
    {
      "cell_type": "code",
      "source": [
        "#Creating 3X3 identity matrix\n",
        "import numpy as np\n",
        "matrix = np.identity(3)\n",
        "print(\"The 3X3 identity matrix is:\")\n",
        "print(matrix)"
      ],
      "metadata": {
        "colab": {
          "base_uri": "https://localhost:8080/"
        },
        "id": "wZcqqbMiliru",
        "outputId": "44e08188-28ce-4603-9bfa-459520d5b8b5"
      },
      "execution_count": null,
      "outputs": [
        {
          "output_type": "stream",
          "name": "stdout",
          "text": [
            "The 3X3 identity matrix is:\n",
            "[[1. 0. 0.]\n",
            " [0. 1. 0.]\n",
            " [0. 0. 1.]]\n"
          ]
        }
      ]
    },
    {
      "cell_type": "markdown",
      "source": [
        "5. Generate a random 2x3 array of floats between 0 and 1."
      ],
      "metadata": {
        "id": "MpIDWOmklp6j"
      }
    },
    {
      "cell_type": "code",
      "source": [
        "#Generating 2x3 NumPy array of floats 0 to 1\n",
        "import numpy as np\n",
        "random_array = np.random.rand(2, 3)\n",
        "rounded_array = np.round(random_array, 3)\n",
        "print(rounded_array)"
      ],
      "metadata": {
        "colab": {
          "base_uri": "https://localhost:8080/"
        },
        "id": "doh2zoBlltVE",
        "outputId": "8369a33c-e7fe-4653-8145-838dec52b389"
      },
      "execution_count": null,
      "outputs": [
        {
          "output_type": "stream",
          "name": "stdout",
          "text": [
            "[[0.872 0.295 0.471]\n",
            " [0.626 0.254 0.917]]\n"
          ]
        }
      ]
    },
    {
      "cell_type": "markdown",
      "source": [
        "6. Reshape the array from question 5 into a 3x2 array."
      ],
      "metadata": {
        "id": "XXsVd1NZl03b"
      }
    },
    {
      "cell_type": "code",
      "source": [
        "#Generating 3X2 NumPy array of floats 0 to 1\n",
        "import numpy as np\n",
        "random_array = np.random.rand(3, 2)\n",
        "rounded_array = np.round(random_array, 3)\n",
        "print(rounded_array)"
      ],
      "metadata": {
        "colab": {
          "base_uri": "https://localhost:8080/"
        },
        "id": "kAmu4sCLl4NV",
        "outputId": "ce189aaf-562a-4fdf-d667-e8ab7b453cae"
      },
      "execution_count": null,
      "outputs": [
        {
          "output_type": "stream",
          "name": "stdout",
          "text": [
            "[[0.62  0.16 ]\n",
            " [0.743 0.891]\n",
            " [0.966 0.037]]\n"
          ]
        }
      ]
    },
    {
      "cell_type": "markdown",
      "source": [
        "7. Generate a 5x5 NumPy array filled with random floats between 0 and 1."
      ],
      "metadata": {
        "id": "7Ny8mFsfmC23"
      }
    },
    {
      "cell_type": "code",
      "source": [
        "#Generating 5x5 NumPy array of floats 0 to 1\n",
        "import numpy as np\n",
        "random_array = np.random.rand(5, 5)\n",
        "rounded_array = np.round(random_array, 3)\n",
        "print(rounded_array)"
      ],
      "metadata": {
        "colab": {
          "base_uri": "https://localhost:8080/"
        },
        "id": "M61xiqFfmGga",
        "outputId": "2c179875-ad01-4ec2-de4c-994dd62f7f0c"
      },
      "execution_count": null,
      "outputs": [
        {
          "output_type": "stream",
          "name": "stdout",
          "text": [
            "[[0.626 0.971 0.359 0.324 0.294]\n",
            " [0.698 0.046 0.769 0.187 0.416]\n",
            " [0.89  0.474 0.813 0.87  0.153]\n",
            " [0.266 0.16  0.946 0.842 0.63 ]\n",
            " [0.129 0.011 0.652 0.53  0.45 ]]\n"
          ]
        }
      ]
    },
    {
      "cell_type": "markdown",
      "source": [
        "8. Reshape a 1D array of integers from 1 to 12 into a 3x4 matrix."
      ],
      "metadata": {
        "id": "ex6FV6WpmLnj"
      }
    },
    {
      "cell_type": "code",
      "source": [
        "#Reshaping 1D Array\n",
        "import numpy as np\n",
        "arr_1d = np.arange(1, 13)\n",
        "arr_2d = arr_1d.reshape((3, 4))\n",
        "print(arr_2d)"
      ],
      "metadata": {
        "colab": {
          "base_uri": "https://localhost:8080/"
        },
        "id": "K5W_BEf2mO_9",
        "outputId": "3e9c2762-5eeb-4070-a8a4-f145557632c9"
      },
      "execution_count": null,
      "outputs": [
        {
          "output_type": "stream",
          "name": "stdout",
          "text": [
            "[[ 1  2  3  4]\n",
            " [ 5  6  7  8]\n",
            " [ 9 10 11 12]]\n"
          ]
        }
      ]
    },
    {
      "cell_type": "markdown",
      "source": [
        "9. Flatten a 2D array of shape (2, 3) into a 1D array."
      ],
      "metadata": {
        "id": "5YG5t255mZsH"
      }
    },
    {
      "cell_type": "code",
      "source": [
        "#Flatten a 2D array to 1D array\n",
        "import numpy as np\n",
        "array = np.array([[1,2,3], [4,5,6], [7,8,9]])\n",
        "print(\"Initial array: \", str(array))\n",
        "final_array = array.flatten()\n",
        "print(\"The new array is: \", final_array)"
      ],
      "metadata": {
        "id": "ualh8vG2mcl3",
        "colab": {
          "base_uri": "https://localhost:8080/"
        },
        "outputId": "dd2e6569-cfeb-49b5-f2cb-229668f03c65"
      },
      "execution_count": 3,
      "outputs": [
        {
          "output_type": "stream",
          "name": "stdout",
          "text": [
            "Initial array:  [[1 2 3]\n",
            " [4 5 6]\n",
            " [7 8 9]]\n",
            "The new array is:  [1 2 3 4 5 6 7 8 9]\n"
          ]
        }
      ]
    },
    {
      "cell_type": "markdown",
      "source": [
        "10.Convert a 1D array of 9 elements into a 3x3 square matrix."
      ],
      "metadata": {
        "id": "7gCfKKeqfw7F"
      }
    },
    {
      "cell_type": "code",
      "source": [
        "#Converting 1d array of 9 elements in 3X3 matrix\n",
        "import numpy as np\n",
        "array = np.arange(9)\n",
        "print(\"The array is: \", array)\n",
        "matrix = array.reshape((3,3))\n",
        "print(\"The matrix is: \")\n",
        "print(matrix)"
      ],
      "metadata": {
        "colab": {
          "base_uri": "https://localhost:8080/"
        },
        "id": "5Uxop89bf3SA",
        "outputId": "541bead2-52f5-4717-d26c-a1c33c7fc4ba"
      },
      "execution_count": 14,
      "outputs": [
        {
          "output_type": "stream",
          "name": "stdout",
          "text": [
            "The array is:  [0 1 2 3 4 5 6 7 8]\n",
            "The matrix is: \n",
            "[[0 1 2]\n",
            " [3 4 5]\n",
            " [6 7 8]]\n"
          ]
        }
      ]
    },
    {
      "cell_type": "markdown",
      "source": [
        "11. Reshape a 1D array of 20 elements into a 4x5 matrix."
      ],
      "metadata": {
        "id": "0fGNFutggyl_"
      }
    },
    {
      "cell_type": "code",
      "source": [
        "#Reshaping a 1D array of 20 elements into 4X5 matrix\n",
        "import numpy as np\n",
        "array = np.arange(20)\n",
        "print(\"The array is: \", array)\n",
        "matrix = array.reshape((4,5))\n",
        "print(\"The matrix is: \")\n",
        "print(matrix)"
      ],
      "metadata": {
        "colab": {
          "base_uri": "https://localhost:8080/"
        },
        "id": "aZQrhw2ug2EJ",
        "outputId": "28cf0536-b031-43e5-c81f-764df1ca4cb5"
      },
      "execution_count": 13,
      "outputs": [
        {
          "output_type": "stream",
          "name": "stdout",
          "text": [
            "The array is:  [ 0  1  2  3  4  5  6  7  8  9 10 11 12 13 14 15 16 17 18 19]\n",
            "The matrix is: \n",
            "[[ 0  1  2  3  4]\n",
            " [ 5  6  7  8  9]\n",
            " [10 11 12 13 14]\n",
            " [15 16 17 18 19]]\n"
          ]
        }
      ]
    },
    {
      "cell_type": "markdown",
      "source": [
        "12.Concatenate the arrays [[1, 2, 3], [4, 5, 6]] and [[7, 8, 9], [10, 11, 12]] along the axis=0."
      ],
      "metadata": {
        "id": "tV8q4ZLIhdKz"
      }
    },
    {
      "cell_type": "code",
      "source": [
        "#Concatenate the arrays\n",
        "import numpy as np\n",
        "array1 = np.array([[1, 2, 3], [4, 5, 6]])\n",
        "array2 = np.array([[7, 8, 9], [10, 11, 12]])\n",
        "concatenated_array = np.concatenate((array1, array2), axis=0)\n",
        "print(concatenated_array)"
      ],
      "metadata": {
        "colab": {
          "base_uri": "https://localhost:8080/"
        },
        "id": "I67nbwiqhhSU",
        "outputId": "d5fa3da2-c1e9-4e92-c5cd-a039939f1c03"
      },
      "execution_count": 15,
      "outputs": [
        {
          "output_type": "stream",
          "name": "stdout",
          "text": [
            "[[ 1  2  3]\n",
            " [ 4  5  6]\n",
            " [ 7  8  9]\n",
            " [10 11 12]]\n"
          ]
        }
      ]
    },
    {
      "cell_type": "markdown",
      "source": [
        "13.Create a 2D NumPy array with shape (3, 3) filled with zeros."
      ],
      "metadata": {
        "id": "ewgw_JXFh1Xh"
      }
    },
    {
      "cell_type": "code",
      "source": [
        "#Creating 2D Numpy array with shape (3,3) filled with zero\n",
        "import numpy as np\n",
        "zero_array = np.zeros((3, 3))\n",
        "print(zero_array)"
      ],
      "metadata": {
        "colab": {
          "base_uri": "https://localhost:8080/"
        },
        "id": "p7NR7QSah5zM",
        "outputId": "9f9ca5f6-4752-4bbf-82a6-7251516c34b2"
      },
      "execution_count": 16,
      "outputs": [
        {
          "output_type": "stream",
          "name": "stdout",
          "text": [
            "[[0. 0. 0.]\n",
            " [0. 0. 0.]\n",
            " [0. 0. 0.]]\n"
          ]
        }
      ]
    },
    {
      "cell_type": "markdown",
      "source": [
        "14.Concatenate the arrays [[1, 2], [3, 4]] and [[5, 6], [7, 8]] along the second axis."
      ],
      "metadata": {
        "id": "Wzan-t-dib0x"
      }
    },
    {
      "cell_type": "code",
      "source": [
        "#Concatenate the arrays\n",
        "import numpy as np\n",
        "array1 = np.array([[1, 2], [3,4]])\n",
        "array2 = np.array([[5,6], [7,8]])\n",
        "concatenated_array = np.concatenate((array1, array2), axis=1)\n",
        "print(concatenated_array)"
      ],
      "metadata": {
        "colab": {
          "base_uri": "https://localhost:8080/"
        },
        "id": "zuY_PmEZifp5",
        "outputId": "98e6656c-44a8-466f-89c4-fcae7309bad7"
      },
      "execution_count": 20,
      "outputs": [
        {
          "output_type": "stream",
          "name": "stdout",
          "text": [
            "[[1 2 5 6]\n",
            " [3 4 7 8]]\n"
          ]
        }
      ]
    },
    {
      "cell_type": "markdown",
      "source": [
        "15. Transform a 2D array of shape (3, 2) into a 1D array of shape (6)"
      ],
      "metadata": {
        "id": "bFAZe51LkOmj"
      }
    },
    {
      "cell_type": "code",
      "source": [
        "#transforming a 2D array\n",
        "import numpy as np\n",
        "arr = np.array([[1, 2], [3, 4] , [5,6]])\n",
        "print(arr)\n",
        "newarr = arr.reshape(-1)\n",
        "print(\" \")\n",
        "print(newarr)"
      ],
      "metadata": {
        "colab": {
          "base_uri": "https://localhost:8080/"
        },
        "id": "Eg22K4o9kPOp",
        "outputId": "0953d8f5-2f34-4406-f279-76d5e31e2a16"
      },
      "execution_count": 21,
      "outputs": [
        {
          "output_type": "stream",
          "name": "stdout",
          "text": [
            "[[1 2]\n",
            " [3 4]\n",
            " [5 6]]\n",
            " \n",
            "[1 2 3 4 5 6]\n"
          ]
        }
      ]
    }
  ]
}